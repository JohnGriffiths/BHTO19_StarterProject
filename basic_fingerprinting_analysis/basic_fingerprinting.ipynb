{
 "cells": [
  {
   "cell_type": "markdown",
   "metadata": {},
   "source": [
    "## Resting State Fingerprinting Analysis\n",
    "\n",
    "In this project you will explore the concept of interindividual variance through the lens of identifiability; in other words are resting state network connectivity patterns individually specific? This sort of question can be answered using techniques that fall under the category of **Fingerprinting** which ask the following question:\n",
    "\n",
    "$$\\text{Given a connectivity pattern can we reliably link a pattern of connectivity to an individual?}$$\n",
    "\n",
    "\n",
    "In this notebook we'll work through utilizing HCP data from the S900 release and perform a fingerprinting analysis on resting state connectivity networks. Specifically the methodology we will use will be the one used in the paper:\n",
    "\n",
    "\n",
    "[Functional connectome fingerprinting: Identifying individuals based on patterns of brain connectivity. Nat Neurosci. 2015 Nov; 18(11): 1664–1671](https://www.ncbi.nlm.nih.gov/pmc/articles/PMC5008686/)\n",
    "\n",
    "Furthermore we will assess the data using different parcellations schemes to demonstrate the effect of parcellation type on identifiability of individuals."
   ]
  },
  {
   "cell_type": "markdown",
   "metadata": {},
   "source": [
    "***"
   ]
  },
  {
   "cell_type": "markdown",
   "metadata": {},
   "source": [
    "## A quick primer: Connectivity Matrix\n",
    "\n",
    "Before we begin to talk about how fingerprinting can be done, let's quickly go over **connectivity matrices**. A connectivity matrix in fMRI analysis describes the **connectivity** (read correlation) of two nodes from some fMRI data. Specifically this fMRI data can be in the form of:\n",
    "\n",
    "- Vertices on a surface\n",
    "- A parcel from parcellated fMRI data (this contains the mean time series of that particular parcel)\n",
    "    - Furthermore this parcel can be derived from either surface-based fMRI or volume-based\n",
    "- Voxels from volume-based fMRI data\n",
    "\n",
    "Under ideal circumstances you would use a surface-based parcellation of fMRI data where each parcel is defined as the average time series from a set of vertices \"belonging together\". "
   ]
  },
  {
   "cell_type": "markdown",
   "metadata": {},
   "source": [
    "***"
   ]
  },
  {
   "cell_type": "markdown",
   "metadata": {},
   "source": [
    "## How to compute the identifiability of subject resting state networks (fingerprinting)?\n",
    "\n",
    "Once you have full connectivity matrices of the data, you can now start computing fingerprinting/identifiability scores. The rationale behind this is that given the connectivity matrices of a group of particular individuals across two sessions of fMRI acquisition, individual connectivity matrices should be more ***similar* to themselves compared to others** across sessions. \n",
    "\n",
    "A natural question that arises from the above statement is: *how do we express similarity of functional connectivity matrices*? Here's the authors approach:\n",
    "\n",
    "Take a full connectivity matrix:\n",
    "\n",
    "<img src=\"https://nilearn.github.io/_images/sphx_glr_plot_signal_extraction_001.png\" width=70%/img>\n",
    "\n",
    "\n",
    "The method used in Finn et al. (2015) converts this into a *feature vector* (a list of features to describe a single participant) by taking the upper right triangle part of the connectivity matrix. This is because, as shown above, the matrix is symmetric (mirrored) along the diagonal. The data is then normalized using a Fisher $r$-to-$Z$ transformation to yield features with normal distributions across subjects. \n",
    "\n",
    "Finally we can compute similarities on these new *features* by calculating the correlation of subject $i$ and subject $j$. We can get a measure of identifiability for a subject $i$ through calculating the correlation of their features with every other subject's session 2 data (including themselves!). A successful identification occurs when the correlations are maximized when they are *within-subject rather than across subject*. The accuracy score of this *fingerprinting analysis* is yielded by examining the proportion of subjects that are successfully identifiable (within correlation $\\gt$ across-correlation).\n",
    "\n",
    "\n",
    "### NOTE\n",
    "\n",
    "This is not the only way of calculating identifiability - different methods exist that yield different perspectives, and some do a better job than others.\n",
    "\n",
    "Note that part of the fingerprinting process yields similarity scores between individuals which may yield useful insights to how individuals may relate to each other. Do individuals with \"similar fingerprints\" share similar cognitive/behavioural profiles? Do psychiatric conditions interact with fingerprinting reliability? \n",
    "\n",
    "***"
   ]
  },
  {
   "cell_type": "markdown",
   "metadata": {},
   "source": [
    "## The Project Task\n",
    "***\n",
    "\n",
    "In this component of the project task we'll start off with the initial task of performing a fingerprinting analysis on the HCP S900 dataset. Your first goal is to reproduce the analysis made in the above linked paper. To help guide your progress through this project, we've broken down the key steps to performing this analysis. When working on this analysis problem we recommend working together in groups and trying to solve programmatic issues/analysis issues with each other before approaching BrainHack instructors. "
   ]
  },
  {
   "cell_type": "markdown",
   "metadata": {},
   "source": [
    "### Task Breakdown\n",
    "\n",
    "\n",
    "#### Beginner Project: Volume-based fingerprinting analysis\n",
    "\n",
    "1. Load in a single subject's volume parcellation (Shen parcellation atlas) meants csv\n",
    "    - The meants data contains 1 time-series per row, where rows corresponds to parcels\n",
    "2. Compute a connectivity matrix for this parcellation \n",
    "3. Pull upper-triangular component of connectivity matrix and vectorize into a 1D array\n",
    "4. Perform a Fisher $r$-to-$Z$ transformation\n",
    "5. Repeat for all other subjects so that you have N 1-D arrays, where N is the number of available subjects\n",
    "6. Run the fingerprinting analysis and compute an accuracy score\n",
    "\n",
    "*Bonus Tasks*\n",
    "\n",
    "- Which edges (connections) contributed most to your fingerprinting accuracy score? Look to the paper for ideas on how to tackle this question\n",
    "- Try other volume-based parcellation schemes. What effects do parcellations have on fingerprinting? Is there something you can say about parcellation structure that relates to fingerprinting accuracy? \n",
    "    - HINT: Read the papers that generated the parcellations, what sort of information went inside the parcellation scheme? \n",
    "    - HINT: The paper provides a possible explanation, does this align with your observations?\n",
    "    \n",
    "#### Extension: Surface-based Fingerprinting Analysis\n",
    "\n",
    "We can also perform fingerprinting using surface-based data! Surface-based data is thought to better represent local BOLD activations especially in regions where 1 voxel may cross a sulcal gap. \n",
    "\n",
    "***\n",
    "For more information check out some surface-based papers! Here's one that might be interesting:\n",
    "\n",
    "[Ciftify: A framework for surface-based analysis of legacy MR acquisitions](https://www.sciencedirect.com/science/article/abs/pii/S1053811919303714)\n",
    "\n",
    "***\n",
    "\n",
    "Perform the same analysis as the volume-based fingerprinting analysis. This time look into the surface-based meants csvs. Can you draw the same conclusions as the volume-based analysis? "
   ]
  },
  {
   "cell_type": "markdown",
   "metadata": {},
   "source": [
    "#### Additional Advanced Tasks\n",
    "\n",
    "Now that we've been able to develop a fingerprinting algorithm let's get back to thinking about our similarity scores and the *features* that we've been able to calculate for our data. Can we relate this features to behavioural scores or cognitive measures from the dataset? \n",
    "\n",
    "Several methods may be useful to look at:\n",
    "\n",
    "- Regression-type analysis of FC vectors to cognitive/behavioural scores (see paper for inspiration)\n",
    "- Replicate the leave-one-out cross-validation algorithm used in the paper\n",
    "- Try extending this idea of fingerprinting to *Cortical Gradients* - check out the Starter Project Gradients Repo for a start!"
   ]
  }
 ],
 "metadata": {
  "kernelspec": {
   "display_name": "Python 3",
   "language": "python",
   "name": "python3"
  },
  "language_info": {
   "codemirror_mode": {
    "name": "ipython",
    "version": 3
   },
   "file_extension": ".py",
   "mimetype": "text/x-python",
   "name": "python",
   "nbconvert_exporter": "python",
   "pygments_lexer": "ipython3",
   "version": "3.6.4"
  }
 },
 "nbformat": 4,
 "nbformat_minor": 2
}
